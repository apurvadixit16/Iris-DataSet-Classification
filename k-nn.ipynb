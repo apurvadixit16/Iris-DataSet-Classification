{
 "cells": [
  {
   "cell_type": "code",
   "execution_count": 1,
   "metadata": {},
   "outputs": [
    {
     "name": "stdout",
     "output_type": "stream",
     "text": [
      "['.ipynb_checkpoints', 'Iris.xls', 'k-nn.ipynb']\n"
     ]
    }
   ],
   "source": [
    "import os\n",
    "print(os.listdir())"
   ]
  },
  {
   "cell_type": "code",
   "execution_count": 2,
   "metadata": {},
   "outputs": [],
   "source": [
    "#import libraries\n",
    "\n",
    "import pandas as pd\n",
    "import numpy as np\n",
    "import matplotlib.pyplot as plt\n",
    "%matplotlib inline"
   ]
  },
  {
   "cell_type": "code",
   "execution_count": 3,
   "metadata": {},
   "outputs": [],
   "source": [
    "#load dataset using pandas\n",
    "\n",
    "df = pd.read_excel('Iris.xls')"
   ]
  },
  {
   "cell_type": "code",
   "execution_count": 4,
   "metadata": {},
   "outputs": [
    {
     "data": {
      "text/html": [
       "<div>\n",
       "<style scoped>\n",
       "    .dataframe tbody tr th:only-of-type {\n",
       "        vertical-align: middle;\n",
       "    }\n",
       "\n",
       "    .dataframe tbody tr th {\n",
       "        vertical-align: top;\n",
       "    }\n",
       "\n",
       "    .dataframe thead th {\n",
       "        text-align: right;\n",
       "    }\n",
       "</style>\n",
       "<table border=\"1\" class=\"dataframe\">\n",
       "  <thead>\n",
       "    <tr style=\"text-align: right;\">\n",
       "      <th></th>\n",
       "      <th>sepal length</th>\n",
       "      <th>sepal width</th>\n",
       "      <th>petal length</th>\n",
       "      <th>petal width</th>\n",
       "      <th>iris</th>\n",
       "      <th>Unnamed: 5</th>\n",
       "      <th>Unnamed: 6</th>\n",
       "      <th>sepal length.1</th>\n",
       "      <th>Unnamed: 8</th>\n",
       "    </tr>\n",
       "  </thead>\n",
       "  <tbody>\n",
       "    <tr>\n",
       "      <th>0</th>\n",
       "      <td>5.1</td>\n",
       "      <td>3.5</td>\n",
       "      <td>1.4</td>\n",
       "      <td>0.2</td>\n",
       "      <td>Iris-setosa</td>\n",
       "      <td>NaN</td>\n",
       "      <td>NaN</td>\n",
       "      <td>Count</td>\n",
       "      <td>150.000000</td>\n",
       "    </tr>\n",
       "    <tr>\n",
       "      <th>1</th>\n",
       "      <td>4.9</td>\n",
       "      <td>3.0</td>\n",
       "      <td>1.4</td>\n",
       "      <td>0.2</td>\n",
       "      <td>Iris-setosa</td>\n",
       "      <td>NaN</td>\n",
       "      <td>NaN</td>\n",
       "      <td>Minimum</td>\n",
       "      <td>4.300000</td>\n",
       "    </tr>\n",
       "    <tr>\n",
       "      <th>2</th>\n",
       "      <td>4.7</td>\n",
       "      <td>3.2</td>\n",
       "      <td>1.3</td>\n",
       "      <td>0.2</td>\n",
       "      <td>Iris-setosa</td>\n",
       "      <td>NaN</td>\n",
       "      <td>NaN</td>\n",
       "      <td>Maximum</td>\n",
       "      <td>7.900000</td>\n",
       "    </tr>\n",
       "    <tr>\n",
       "      <th>3</th>\n",
       "      <td>4.6</td>\n",
       "      <td>3.1</td>\n",
       "      <td>1.5</td>\n",
       "      <td>0.2</td>\n",
       "      <td>Iris-setosa</td>\n",
       "      <td>NaN</td>\n",
       "      <td>NaN</td>\n",
       "      <td>Mean</td>\n",
       "      <td>5.843333</td>\n",
       "    </tr>\n",
       "    <tr>\n",
       "      <th>4</th>\n",
       "      <td>5.0</td>\n",
       "      <td>3.6</td>\n",
       "      <td>1.4</td>\n",
       "      <td>0.2</td>\n",
       "      <td>Iris-setosa</td>\n",
       "      <td>NaN</td>\n",
       "      <td>NaN</td>\n",
       "      <td>Median</td>\n",
       "      <td>5.800000</td>\n",
       "    </tr>\n",
       "    <tr>\n",
       "      <th>5</th>\n",
       "      <td>5.4</td>\n",
       "      <td>3.9</td>\n",
       "      <td>1.7</td>\n",
       "      <td>0.4</td>\n",
       "      <td>Iris-setosa</td>\n",
       "      <td>NaN</td>\n",
       "      <td>NaN</td>\n",
       "      <td>Mode</td>\n",
       "      <td>5.000000</td>\n",
       "    </tr>\n",
       "    <tr>\n",
       "      <th>6</th>\n",
       "      <td>4.6</td>\n",
       "      <td>3.4</td>\n",
       "      <td>1.4</td>\n",
       "      <td>0.3</td>\n",
       "      <td>Iris-setosa</td>\n",
       "      <td>NaN</td>\n",
       "      <td>NaN</td>\n",
       "      <td>Quartile 1</td>\n",
       "      <td>5.100000</td>\n",
       "    </tr>\n",
       "    <tr>\n",
       "      <th>7</th>\n",
       "      <td>5.0</td>\n",
       "      <td>3.4</td>\n",
       "      <td>1.5</td>\n",
       "      <td>0.2</td>\n",
       "      <td>Iris-setosa</td>\n",
       "      <td>NaN</td>\n",
       "      <td>NaN</td>\n",
       "      <td>Range</td>\n",
       "      <td>3.600000</td>\n",
       "    </tr>\n",
       "    <tr>\n",
       "      <th>8</th>\n",
       "      <td>4.4</td>\n",
       "      <td>2.9</td>\n",
       "      <td>1.4</td>\n",
       "      <td>0.2</td>\n",
       "      <td>Iris-setosa</td>\n",
       "      <td>NaN</td>\n",
       "      <td>NaN</td>\n",
       "      <td>Variance</td>\n",
       "      <td>0.685694</td>\n",
       "    </tr>\n",
       "    <tr>\n",
       "      <th>9</th>\n",
       "      <td>4.9</td>\n",
       "      <td>3.1</td>\n",
       "      <td>1.5</td>\n",
       "      <td>0.1</td>\n",
       "      <td>Iris-setosa</td>\n",
       "      <td>NaN</td>\n",
       "      <td>NaN</td>\n",
       "      <td>Standard Deviation</td>\n",
       "      <td>0.828066</td>\n",
       "    </tr>\n",
       "  </tbody>\n",
       "</table>\n",
       "</div>"
      ],
      "text/plain": [
       "   sepal length  sepal width  petal length  petal width         iris  \\\n",
       "0           5.1          3.5           1.4          0.2  Iris-setosa   \n",
       "1           4.9          3.0           1.4          0.2  Iris-setosa   \n",
       "2           4.7          3.2           1.3          0.2  Iris-setosa   \n",
       "3           4.6          3.1           1.5          0.2  Iris-setosa   \n",
       "4           5.0          3.6           1.4          0.2  Iris-setosa   \n",
       "5           5.4          3.9           1.7          0.4  Iris-setosa   \n",
       "6           4.6          3.4           1.4          0.3  Iris-setosa   \n",
       "7           5.0          3.4           1.5          0.2  Iris-setosa   \n",
       "8           4.4          2.9           1.4          0.2  Iris-setosa   \n",
       "9           4.9          3.1           1.5          0.1  Iris-setosa   \n",
       "\n",
       "   Unnamed: 5  Unnamed: 6      sepal length.1  Unnamed: 8  \n",
       "0         NaN         NaN               Count  150.000000  \n",
       "1         NaN         NaN             Minimum    4.300000  \n",
       "2         NaN         NaN             Maximum    7.900000  \n",
       "3         NaN         NaN                Mean    5.843333  \n",
       "4         NaN         NaN              Median    5.800000  \n",
       "5         NaN         NaN                Mode    5.000000  \n",
       "6         NaN         NaN          Quartile 1    5.100000  \n",
       "7         NaN         NaN               Range    3.600000  \n",
       "8         NaN         NaN            Variance    0.685694  \n",
       "9         NaN         NaN  Standard Deviation    0.828066  "
      ]
     },
     "execution_count": 4,
     "metadata": {},
     "output_type": "execute_result"
    }
   ],
   "source": [
    "df.head(10)"
   ]
  },
  {
   "cell_type": "code",
   "execution_count": 5,
   "metadata": {},
   "outputs": [
    {
     "name": "stdout",
     "output_type": "stream",
     "text": [
      "<class 'pandas.core.frame.DataFrame'>\n",
      "RangeIndex: 150 entries, 0 to 149\n",
      "Data columns (total 9 columns):\n",
      "sepal length      150 non-null float64\n",
      "sepal width       150 non-null float64\n",
      "petal length      150 non-null float64\n",
      "petal width       150 non-null float64\n",
      "iris              150 non-null object\n",
      "Unnamed: 5        0 non-null float64\n",
      "Unnamed: 6        0 non-null float64\n",
      "sepal length.1    13 non-null object\n",
      "Unnamed: 8        13 non-null float64\n",
      "dtypes: float64(7), object(2)\n",
      "memory usage: 10.6+ KB\n"
     ]
    }
   ],
   "source": [
    "df.info()"
   ]
  },
  {
   "cell_type": "code",
   "execution_count": 6,
   "metadata": {},
   "outputs": [
    {
     "data": {
      "text/plain": [
       "sepal length        0\n",
       "sepal width         0\n",
       "petal length        0\n",
       "petal width         0\n",
       "iris                0\n",
       "Unnamed: 5        150\n",
       "Unnamed: 6        150\n",
       "sepal length.1    137\n",
       "Unnamed: 8        137\n",
       "dtype: int64"
      ]
     },
     "execution_count": 6,
     "metadata": {},
     "output_type": "execute_result"
    }
   ],
   "source": [
    "#check which all columns have null values\n",
    "\n",
    "df.isnull().sum()"
   ]
  },
  {
   "cell_type": "code",
   "execution_count": 7,
   "metadata": {},
   "outputs": [],
   "source": [
    "#As dependent and independent columns have 'zero' null values"
   ]
  },
  {
   "cell_type": "code",
   "execution_count": 8,
   "metadata": {},
   "outputs": [],
   "source": [
    "#independent variable\n",
    "X = df.iloc[ : , :4].values"
   ]
  },
  {
   "cell_type": "code",
   "execution_count": 9,
   "metadata": {},
   "outputs": [
    {
     "data": {
      "text/plain": [
       "array([[5.1, 3.5, 1.4, 0.2],\n",
       "       [4.9, 3. , 1.4, 0.2],\n",
       "       [4.7, 3.2, 1.3, 0.2],\n",
       "       [4.6, 3.1, 1.5, 0.2],\n",
       "       [5. , 3.6, 1.4, 0.2],\n",
       "       [5.4, 3.9, 1.7, 0.4],\n",
       "       [4.6, 3.4, 1.4, 0.3],\n",
       "       [5. , 3.4, 1.5, 0.2],\n",
       "       [4.4, 2.9, 1.4, 0.2],\n",
       "       [4.9, 3.1, 1.5, 0.1],\n",
       "       [5.4, 3.7, 1.5, 0.2],\n",
       "       [4.8, 3.4, 1.6, 0.2],\n",
       "       [4.8, 3. , 1.4, 0.1],\n",
       "       [4.3, 3. , 1.1, 0.1],\n",
       "       [5.8, 4. , 1.2, 0.2],\n",
       "       [5.7, 4.4, 1.5, 0.4],\n",
       "       [5.4, 3.9, 1.3, 0.4],\n",
       "       [5.1, 3.5, 1.4, 0.3],\n",
       "       [5.7, 3.8, 1.7, 0.3],\n",
       "       [5.1, 3.8, 1.5, 0.3],\n",
       "       [5.4, 3.4, 1.7, 0.2],\n",
       "       [5.1, 3.7, 1.5, 0.4],\n",
       "       [4.6, 3.6, 1. , 0.2],\n",
       "       [5.1, 3.3, 1.7, 0.5],\n",
       "       [4.8, 3.4, 1.9, 0.2],\n",
       "       [5. , 3. , 1.6, 0.2],\n",
       "       [5. , 3.4, 1.6, 0.4],\n",
       "       [5.2, 3.5, 1.5, 0.2],\n",
       "       [5.2, 3.4, 1.4, 0.2],\n",
       "       [4.7, 3.2, 1.6, 0.2],\n",
       "       [4.8, 3.1, 1.6, 0.2],\n",
       "       [5.4, 3.4, 1.5, 0.4],\n",
       "       [5.2, 4.1, 1.5, 0.1],\n",
       "       [5.5, 4.2, 1.4, 0.2],\n",
       "       [4.9, 3.1, 1.5, 0.1],\n",
       "       [5. , 3.2, 1.2, 0.2],\n",
       "       [5.5, 3.5, 1.3, 0.2],\n",
       "       [4.9, 3.1, 1.5, 0.1],\n",
       "       [4.4, 3. , 1.3, 0.2],\n",
       "       [5.1, 3.4, 1.5, 0.2],\n",
       "       [5. , 3.5, 1.3, 0.3],\n",
       "       [4.5, 2.3, 1.3, 0.3],\n",
       "       [4.4, 3.2, 1.3, 0.2],\n",
       "       [5. , 3.5, 1.6, 0.6],\n",
       "       [5.1, 3.8, 1.9, 0.4],\n",
       "       [4.8, 3. , 1.4, 0.3],\n",
       "       [5.1, 3.8, 1.6, 0.2],\n",
       "       [4.6, 3.2, 1.4, 0.2],\n",
       "       [5.3, 3.7, 1.5, 0.2],\n",
       "       [5. , 3.3, 1.4, 0.2],\n",
       "       [7. , 3.2, 4.7, 1.4],\n",
       "       [6.4, 3.2, 4.5, 1.5],\n",
       "       [6.9, 3.1, 4.9, 1.5],\n",
       "       [5.5, 2.3, 4. , 1.3],\n",
       "       [6.5, 2.8, 4.6, 1.5],\n",
       "       [5.7, 2.8, 4.5, 1.3],\n",
       "       [6.3, 3.3, 4.7, 1.6],\n",
       "       [4.9, 2.4, 3.3, 1. ],\n",
       "       [6.6, 2.9, 4.6, 1.3],\n",
       "       [5.2, 2.7, 3.9, 1.4],\n",
       "       [5. , 2. , 3.5, 1. ],\n",
       "       [5.9, 3. , 4.2, 1.5],\n",
       "       [6. , 2.2, 4. , 1. ],\n",
       "       [6.1, 2.9, 4.7, 1.4],\n",
       "       [5.6, 2.9, 3.6, 1.3],\n",
       "       [6.7, 3.1, 4.4, 1.4],\n",
       "       [5.6, 3. , 4.5, 1.5],\n",
       "       [5.8, 2.7, 4.1, 1. ],\n",
       "       [6.2, 2.2, 4.5, 1.5],\n",
       "       [5.6, 2.5, 3.9, 1.1],\n",
       "       [5.9, 3.2, 4.8, 1.8],\n",
       "       [6.1, 2.8, 4. , 1.3],\n",
       "       [6.3, 2.5, 4.9, 1.5],\n",
       "       [6.1, 2.8, 4.7, 1.2],\n",
       "       [6.4, 2.9, 4.3, 1.3],\n",
       "       [6.6, 3. , 4.4, 1.4],\n",
       "       [6.8, 2.8, 4.8, 1.4],\n",
       "       [6.7, 3. , 5. , 1.7],\n",
       "       [6. , 2.9, 4.5, 1.5],\n",
       "       [5.7, 2.6, 3.5, 1. ],\n",
       "       [5.5, 2.4, 3.8, 1.1],\n",
       "       [5.5, 2.4, 3.7, 1. ],\n",
       "       [5.8, 2.7, 3.9, 1.2],\n",
       "       [6. , 2.7, 5.1, 1.6],\n",
       "       [5.4, 3. , 4.5, 1.5],\n",
       "       [6. , 3.4, 4.5, 1.6],\n",
       "       [6.7, 3.1, 4.7, 1.5],\n",
       "       [6.3, 2.3, 4.4, 1.3],\n",
       "       [5.6, 3. , 4.1, 1.3],\n",
       "       [5.5, 2.5, 4. , 1.3],\n",
       "       [5.5, 2.6, 4.4, 1.2],\n",
       "       [6.1, 3. , 4.6, 1.4],\n",
       "       [5.8, 2.6, 4. , 1.2],\n",
       "       [5. , 2.3, 3.3, 1. ],\n",
       "       [5.6, 2.7, 4.2, 1.3],\n",
       "       [5.7, 3. , 4.2, 1.2],\n",
       "       [5.7, 2.9, 4.2, 1.3],\n",
       "       [6.2, 2.9, 4.3, 1.3],\n",
       "       [5.1, 2.5, 3. , 1.1],\n",
       "       [5.7, 2.8, 4.1, 1.3],\n",
       "       [6.3, 3.3, 6. , 2.5],\n",
       "       [5.8, 2.7, 5.1, 1.9],\n",
       "       [7.1, 3. , 5.9, 2.1],\n",
       "       [6.3, 2.9, 5.6, 1.8],\n",
       "       [6.5, 3. , 5.8, 2.2],\n",
       "       [7.6, 3. , 6.6, 2.1],\n",
       "       [4.9, 2.5, 4.5, 1.7],\n",
       "       [7.3, 2.9, 6.3, 1.8],\n",
       "       [6.7, 2.5, 5.8, 1.8],\n",
       "       [7.2, 3.6, 6.1, 2.5],\n",
       "       [6.5, 3.2, 5.1, 2. ],\n",
       "       [6.4, 2.7, 5.3, 1.9],\n",
       "       [6.8, 3. , 5.5, 2.1],\n",
       "       [5.7, 2.5, 5. , 2. ],\n",
       "       [5.8, 2.8, 5.1, 2.4],\n",
       "       [6.4, 3.2, 5.3, 2.3],\n",
       "       [6.5, 3. , 5.5, 1.8],\n",
       "       [7.7, 3.8, 6.7, 2.2],\n",
       "       [7.7, 2.6, 6.9, 2.3],\n",
       "       [6. , 2.2, 5. , 1.5],\n",
       "       [6.9, 3.2, 5.7, 2.3],\n",
       "       [5.6, 2.8, 4.9, 2. ],\n",
       "       [7.7, 2.8, 6.7, 2. ],\n",
       "       [6.3, 2.7, 4.9, 1.8],\n",
       "       [6.7, 3.3, 5.7, 2.1],\n",
       "       [7.2, 3.2, 6. , 1.8],\n",
       "       [6.2, 2.8, 4.8, 1.8],\n",
       "       [6.1, 3. , 4.9, 1.8],\n",
       "       [6.4, 2.8, 5.6, 2.1],\n",
       "       [7.2, 3. , 5.8, 1.6],\n",
       "       [7.4, 2.8, 6.1, 1.9],\n",
       "       [7.9, 3.8, 6.4, 2. ],\n",
       "       [6.4, 2.8, 5.6, 2.2],\n",
       "       [6.3, 2.8, 5.1, 1.5],\n",
       "       [6.1, 2.6, 5.6, 1.4],\n",
       "       [7.7, 3. , 6.1, 2.3],\n",
       "       [6.3, 3.4, 5.6, 2.4],\n",
       "       [6.4, 3.1, 5.5, 1.8],\n",
       "       [6. , 3. , 4.8, 1.8],\n",
       "       [6.9, 3.1, 5.4, 2.1],\n",
       "       [6.7, 3.1, 5.6, 2.4],\n",
       "       [6.9, 3.1, 5.1, 2.3],\n",
       "       [5.8, 2.7, 5.1, 1.9],\n",
       "       [6.8, 3.2, 5.9, 2.3],\n",
       "       [6.7, 3.3, 5.7, 2.5],\n",
       "       [6.7, 3. , 5.2, 2.3],\n",
       "       [6.3, 2.5, 5. , 1.9],\n",
       "       [6.5, 3. , 5.2, 2. ],\n",
       "       [6.2, 3.4, 5.4, 2.3],\n",
       "       [5.9, 3. , 5.1, 1.8]])"
      ]
     },
     "execution_count": 9,
     "metadata": {},
     "output_type": "execute_result"
    }
   ],
   "source": [
    "X"
   ]
  },
  {
   "cell_type": "code",
   "execution_count": 10,
   "metadata": {},
   "outputs": [
    {
     "data": {
      "text/plain": [
       "(150, 4)"
      ]
     },
     "execution_count": 10,
     "metadata": {},
     "output_type": "execute_result"
    }
   ],
   "source": [
    "X.shape"
   ]
  },
  {
   "cell_type": "code",
   "execution_count": 11,
   "metadata": {},
   "outputs": [],
   "source": [
    "#dependent variable\n",
    "y = df.iloc[ : , 4].values"
   ]
  },
  {
   "cell_type": "code",
   "execution_count": 12,
   "metadata": {},
   "outputs": [
    {
     "data": {
      "text/plain": [
       "array(['Iris-setosa', 'Iris-setosa', 'Iris-setosa', 'Iris-setosa',\n",
       "       'Iris-setosa', 'Iris-setosa', 'Iris-setosa', 'Iris-setosa',\n",
       "       'Iris-setosa', 'Iris-setosa', 'Iris-setosa', 'Iris-setosa',\n",
       "       'Iris-setosa', 'Iris-setosa', 'Iris-setosa', 'Iris-setosa',\n",
       "       'Iris-setosa', 'Iris-setosa', 'Iris-setosa', 'Iris-setosa',\n",
       "       'Iris-setosa', 'Iris-setosa', 'Iris-setosa', 'Iris-setosa',\n",
       "       'Iris-setosa', 'Iris-setosa', 'Iris-setosa', 'Iris-setosa',\n",
       "       'Iris-setosa', 'Iris-setosa', 'Iris-setosa', 'Iris-setosa',\n",
       "       'Iris-setosa', 'Iris-setosa', 'Iris-setosa', 'Iris-setosa',\n",
       "       'Iris-setosa', 'Iris-setosa', 'Iris-setosa', 'Iris-setosa',\n",
       "       'Iris-setosa', 'Iris-setosa', 'Iris-setosa', 'Iris-setosa',\n",
       "       'Iris-setosa', 'Iris-setosa', 'Iris-setosa', 'Iris-setosa',\n",
       "       'Iris-setosa', 'Iris-setosa', 'Iris-versicolor', 'Iris-versicolor',\n",
       "       'Iris-versicolor', 'Iris-versicolor', 'Iris-versicolor',\n",
       "       'Iris-versicolor', 'Iris-versicolor', 'Iris-versicolor',\n",
       "       'Iris-versicolor', 'Iris-versicolor', 'Iris-versicolor',\n",
       "       'Iris-versicolor', 'Iris-versicolor', 'Iris-versicolor',\n",
       "       'Iris-versicolor', 'Iris-versicolor', 'Iris-versicolor',\n",
       "       'Iris-versicolor', 'Iris-versicolor', 'Iris-versicolor',\n",
       "       'Iris-versicolor', 'Iris-versicolor', 'Iris-versicolor',\n",
       "       'Iris-versicolor', 'Iris-versicolor', 'Iris-versicolor',\n",
       "       'Iris-versicolor', 'Iris-versicolor', 'Iris-versicolor',\n",
       "       'Iris-versicolor', 'Iris-versicolor', 'Iris-versicolor',\n",
       "       'Iris-versicolor', 'Iris-versicolor', 'Iris-versicolor',\n",
       "       'Iris-versicolor', 'Iris-versicolor', 'Iris-versicolor',\n",
       "       'Iris-versicolor', 'Iris-versicolor', 'Iris-versicolor',\n",
       "       'Iris-versicolor', 'Iris-versicolor', 'Iris-versicolor',\n",
       "       'Iris-versicolor', 'Iris-versicolor', 'Iris-versicolor',\n",
       "       'Iris-versicolor', 'Iris-versicolor', 'Iris-versicolor',\n",
       "       'Iris-virginica', 'Iris-virginica', 'Iris-virginica',\n",
       "       'Iris-virginica', 'Iris-virginica', 'Iris-virginica',\n",
       "       'Iris-virginica', 'Iris-virginica', 'Iris-virginica',\n",
       "       'Iris-virginica', 'Iris-virginica', 'Iris-virginica',\n",
       "       'Iris-virginica', 'Iris-virginica', 'Iris-virginica',\n",
       "       'Iris-virginica', 'Iris-virginica', 'Iris-virginica',\n",
       "       'Iris-virginica', 'Iris-virginica', 'Iris-virginica',\n",
       "       'Iris-virginica', 'Iris-virginica', 'Iris-virginica',\n",
       "       'Iris-virginica', 'Iris-virginica', 'Iris-virginica',\n",
       "       'Iris-virginica', 'Iris-virginica', 'Iris-virginica',\n",
       "       'Iris-virginica', 'Iris-virginica', 'Iris-virginica',\n",
       "       'Iris-virginica', 'Iris-virginica', 'Iris-virginica',\n",
       "       'Iris-virginica', 'Iris-virginica', 'Iris-virginica',\n",
       "       'Iris-virginica', 'Iris-virginica', 'Iris-virginica',\n",
       "       'Iris-virginica', 'Iris-virginica', 'Iris-virginica',\n",
       "       'Iris-virginica', 'Iris-virginica', 'Iris-virginica',\n",
       "       'Iris-virginica', 'Iris-virginica'], dtype=object)"
      ]
     },
     "execution_count": 12,
     "metadata": {},
     "output_type": "execute_result"
    }
   ],
   "source": [
    "y"
   ]
  },
  {
   "cell_type": "code",
   "execution_count": 13,
   "metadata": {},
   "outputs": [
    {
     "data": {
      "text/plain": [
       "(150,)"
      ]
     },
     "execution_count": 13,
     "metadata": {},
     "output_type": "execute_result"
    }
   ],
   "source": [
    "y.shape"
   ]
  },
  {
   "cell_type": "code",
   "execution_count": 14,
   "metadata": {},
   "outputs": [],
   "source": [
    "from sklearn.model_selection import train_test_split"
   ]
  },
  {
   "cell_type": "code",
   "execution_count": 15,
   "metadata": {},
   "outputs": [],
   "source": [
    "X_train ,X_test ,y_train ,y_test = train_test_split(X ,y ,test_size = 0.2)"
   ]
  },
  {
   "cell_type": "code",
   "execution_count": 16,
   "metadata": {},
   "outputs": [
    {
     "data": {
      "text/plain": [
       "array([[5.5, 2.6, 4.4, 1.2],\n",
       "       [6.8, 2.8, 4.8, 1.4],\n",
       "       [6.6, 3. , 4.4, 1.4],\n",
       "       [5.2, 4.1, 1.5, 0.1],\n",
       "       [6.3, 2.5, 5. , 1.9],\n",
       "       [5.1, 3.5, 1.4, 0.3],\n",
       "       [5.5, 4.2, 1.4, 0.2],\n",
       "       [5.9, 3. , 5.1, 1.8],\n",
       "       [6.7, 3. , 5. , 1.7],\n",
       "       [7.9, 3.8, 6.4, 2. ],\n",
       "       [5. , 3.5, 1.6, 0.6],\n",
       "       [6.3, 3.4, 5.6, 2.4],\n",
       "       [5.8, 2.8, 5.1, 2.4],\n",
       "       [6.5, 2.8, 4.6, 1.5],\n",
       "       [6.7, 3.3, 5.7, 2.5],\n",
       "       [5.7, 4.4, 1.5, 0.4],\n",
       "       [6.8, 3.2, 5.9, 2.3],\n",
       "       [5.1, 3.7, 1.5, 0.4],\n",
       "       [5.2, 3.5, 1.5, 0.2],\n",
       "       [4.6, 3.2, 1.4, 0.2],\n",
       "       [4.8, 3.1, 1.6, 0.2],\n",
       "       [5.5, 2.3, 4. , 1.3],\n",
       "       [6.8, 3. , 5.5, 2.1],\n",
       "       [5.8, 2.7, 3.9, 1.2],\n",
       "       [4.9, 3.1, 1.5, 0.1],\n",
       "       [6. , 3.4, 4.5, 1.6],\n",
       "       [5.6, 3. , 4.1, 1.3],\n",
       "       [6.3, 3.3, 6. , 2.5],\n",
       "       [6.3, 2.5, 4.9, 1.5],\n",
       "       [4.8, 3.4, 1.6, 0.2],\n",
       "       [5.1, 3.8, 1.9, 0.4],\n",
       "       [6.1, 3. , 4.9, 1.8],\n",
       "       [5.9, 3. , 4.2, 1.5],\n",
       "       [5.8, 2.7, 5.1, 1.9],\n",
       "       [6.5, 3. , 5.5, 1.8],\n",
       "       [6.4, 2.8, 5.6, 2.2],\n",
       "       [5.5, 2.5, 4. , 1.3],\n",
       "       [5.7, 2.8, 4.1, 1.3],\n",
       "       [5. , 2.3, 3.3, 1. ],\n",
       "       [5. , 3.5, 1.3, 0.3],\n",
       "       [4.7, 3.2, 1.6, 0.2],\n",
       "       [5.1, 3.8, 1.6, 0.2],\n",
       "       [5. , 3.6, 1.4, 0.2],\n",
       "       [5.6, 2.8, 4.9, 2. ],\n",
       "       [4.3, 3. , 1.1, 0.1],\n",
       "       [6.5, 3. , 5.2, 2. ],\n",
       "       [6.6, 2.9, 4.6, 1.3],\n",
       "       [6.9, 3.2, 5.7, 2.3],\n",
       "       [5.9, 3.2, 4.8, 1.8],\n",
       "       [5.1, 3.4, 1.5, 0.2],\n",
       "       [5.6, 2.9, 3.6, 1.3],\n",
       "       [5.1, 3.8, 1.5, 0.3],\n",
       "       [6.2, 2.2, 4.5, 1.5],\n",
       "       [5.7, 2.6, 3.5, 1. ],\n",
       "       [7.7, 3.8, 6.7, 2.2],\n",
       "       [5.8, 2.6, 4. , 1.2],\n",
       "       [5.7, 2.8, 4.5, 1.3],\n",
       "       [5. , 3.4, 1.6, 0.4],\n",
       "       [6.7, 3.1, 4.7, 1.5],\n",
       "       [5.4, 3.7, 1.5, 0.2],\n",
       "       [5.8, 4. , 1.2, 0.2],\n",
       "       [6.4, 3.2, 5.3, 2.3],\n",
       "       [5.6, 2.7, 4.2, 1.3],\n",
       "       [5.5, 2.4, 3.8, 1.1],\n",
       "       [5.7, 2.9, 4.2, 1.3],\n",
       "       [6.1, 2.8, 4. , 1.3],\n",
       "       [4.9, 3.1, 1.5, 0.1],\n",
       "       [5.8, 2.7, 5.1, 1.9],\n",
       "       [7.7, 3. , 6.1, 2.3],\n",
       "       [4.4, 3. , 1.3, 0.2],\n",
       "       [4.8, 3.4, 1.9, 0.2],\n",
       "       [6. , 3. , 4.8, 1.8],\n",
       "       [5. , 3. , 1.6, 0.2],\n",
       "       [6.1, 2.9, 4.7, 1.4],\n",
       "       [5.2, 2.7, 3.9, 1.4],\n",
       "       [5.4, 3. , 4.5, 1.5],\n",
       "       [6.3, 2.9, 5.6, 1.8],\n",
       "       [4.6, 3.6, 1. , 0.2],\n",
       "       [7. , 3.2, 4.7, 1.4],\n",
       "       [4.7, 3.2, 1.3, 0.2],\n",
       "       [7.2, 3.2, 6. , 1.8],\n",
       "       [6.9, 3.1, 5.1, 2.3],\n",
       "       [7.1, 3. , 5.9, 2.1],\n",
       "       [6.7, 3.1, 5.6, 2.4],\n",
       "       [6.3, 2.8, 5.1, 1.5],\n",
       "       [6.4, 3.2, 4.5, 1.5],\n",
       "       [5.1, 3.3, 1.7, 0.5],\n",
       "       [6.4, 2.8, 5.6, 2.1],\n",
       "       [6.1, 2.8, 4.7, 1.2],\n",
       "       [6.9, 3.1, 4.9, 1.5],\n",
       "       [4.8, 3. , 1.4, 0.1],\n",
       "       [4.9, 2.5, 4.5, 1.7],\n",
       "       [6. , 2.2, 5. , 1.5],\n",
       "       [5.8, 2.7, 4.1, 1. ],\n",
       "       [6.2, 2.9, 4.3, 1.3],\n",
       "       [6.5, 3.2, 5.1, 2. ],\n",
       "       [6.7, 3.1, 4.4, 1.4],\n",
       "       [7.7, 2.8, 6.7, 2. ],\n",
       "       [6.7, 3. , 5.2, 2.3],\n",
       "       [4.5, 2.3, 1.3, 0.3],\n",
       "       [6. , 2.9, 4.5, 1.5],\n",
       "       [4.6, 3.1, 1.5, 0.2],\n",
       "       [6. , 2.2, 4. , 1. ],\n",
       "       [5.6, 3. , 4.5, 1.5],\n",
       "       [4.9, 2.4, 3.3, 1. ],\n",
       "       [7.2, 3. , 5.8, 1.6],\n",
       "       [6. , 2.7, 5.1, 1.6],\n",
       "       [5.7, 3. , 4.2, 1.2],\n",
       "       [7.3, 2.9, 6.3, 1.8],\n",
       "       [5.6, 2.5, 3.9, 1.1],\n",
       "       [4.4, 3.2, 1.3, 0.2],\n",
       "       [6.1, 3. , 4.6, 1.4],\n",
       "       [5.3, 3.7, 1.5, 0.2],\n",
       "       [6.2, 3.4, 5.4, 2.3],\n",
       "       [6.4, 3.1, 5.5, 1.8],\n",
       "       [6.4, 2.7, 5.3, 1.9],\n",
       "       [4.8, 3. , 1.4, 0.3],\n",
       "       [5.4, 3.4, 1.7, 0.2],\n",
       "       [6.3, 2.3, 4.4, 1.3],\n",
       "       [6.3, 3.3, 4.7, 1.6]])"
      ]
     },
     "execution_count": 16,
     "metadata": {},
     "output_type": "execute_result"
    }
   ],
   "source": [
    "X_train"
   ]
  },
  {
   "cell_type": "code",
   "execution_count": 17,
   "metadata": {},
   "outputs": [
    {
     "data": {
      "text/plain": [
       "array([[7.6, 3. , 6.6, 2.1],\n",
       "       [4.6, 3.4, 1.4, 0.3],\n",
       "       [6.5, 3. , 5.8, 2.2],\n",
       "       [5.4, 3.9, 1.3, 0.4],\n",
       "       [6.2, 2.8, 4.8, 1.8],\n",
       "       [5. , 3.2, 1.2, 0.2],\n",
       "       [5.7, 2.5, 5. , 2. ],\n",
       "       [7.4, 2.8, 6.1, 1.9],\n",
       "       [5.7, 3.8, 1.7, 0.3],\n",
       "       [5. , 3.4, 1.5, 0.2],\n",
       "       [6.1, 2.6, 5.6, 1.4],\n",
       "       [6.4, 2.9, 4.3, 1.3],\n",
       "       [5.4, 3.9, 1.7, 0.4],\n",
       "       [6.9, 3.1, 5.4, 2.1],\n",
       "       [4.9, 3.1, 1.5, 0.1],\n",
       "       [5.4, 3.4, 1.5, 0.4],\n",
       "       [7.2, 3.6, 6.1, 2.5],\n",
       "       [5. , 3.3, 1.4, 0.2],\n",
       "       [5. , 2. , 3.5, 1. ],\n",
       "       [6.3, 2.7, 4.9, 1.8],\n",
       "       [5.2, 3.4, 1.4, 0.2],\n",
       "       [5.5, 2.4, 3.7, 1. ],\n",
       "       [4.4, 2.9, 1.4, 0.2],\n",
       "       [5.1, 3.5, 1.4, 0.2],\n",
       "       [4.9, 3. , 1.4, 0.2],\n",
       "       [5.1, 2.5, 3. , 1.1],\n",
       "       [7.7, 2.6, 6.9, 2.3],\n",
       "       [6.7, 2.5, 5.8, 1.8],\n",
       "       [6.7, 3.3, 5.7, 2.1],\n",
       "       [5.5, 3.5, 1.3, 0.2]])"
      ]
     },
     "execution_count": 17,
     "metadata": {},
     "output_type": "execute_result"
    }
   ],
   "source": [
    "X_test"
   ]
  },
  {
   "cell_type": "code",
   "execution_count": 18,
   "metadata": {},
   "outputs": [
    {
     "data": {
      "text/plain": [
       "array(['Iris-versicolor', 'Iris-versicolor', 'Iris-versicolor',\n",
       "       'Iris-setosa', 'Iris-virginica', 'Iris-setosa', 'Iris-setosa',\n",
       "       'Iris-virginica', 'Iris-versicolor', 'Iris-virginica',\n",
       "       'Iris-setosa', 'Iris-virginica', 'Iris-virginica',\n",
       "       'Iris-versicolor', 'Iris-virginica', 'Iris-setosa',\n",
       "       'Iris-virginica', 'Iris-setosa', 'Iris-setosa', 'Iris-setosa',\n",
       "       'Iris-setosa', 'Iris-versicolor', 'Iris-virginica',\n",
       "       'Iris-versicolor', 'Iris-setosa', 'Iris-versicolor',\n",
       "       'Iris-versicolor', 'Iris-virginica', 'Iris-versicolor',\n",
       "       'Iris-setosa', 'Iris-setosa', 'Iris-virginica', 'Iris-versicolor',\n",
       "       'Iris-virginica', 'Iris-virginica', 'Iris-virginica',\n",
       "       'Iris-versicolor', 'Iris-versicolor', 'Iris-versicolor',\n",
       "       'Iris-setosa', 'Iris-setosa', 'Iris-setosa', 'Iris-setosa',\n",
       "       'Iris-virginica', 'Iris-setosa', 'Iris-virginica',\n",
       "       'Iris-versicolor', 'Iris-virginica', 'Iris-versicolor',\n",
       "       'Iris-setosa', 'Iris-versicolor', 'Iris-setosa', 'Iris-versicolor',\n",
       "       'Iris-versicolor', 'Iris-virginica', 'Iris-versicolor',\n",
       "       'Iris-versicolor', 'Iris-setosa', 'Iris-versicolor', 'Iris-setosa',\n",
       "       'Iris-setosa', 'Iris-virginica', 'Iris-versicolor',\n",
       "       'Iris-versicolor', 'Iris-versicolor', 'Iris-versicolor',\n",
       "       'Iris-setosa', 'Iris-virginica', 'Iris-virginica', 'Iris-setosa',\n",
       "       'Iris-setosa', 'Iris-virginica', 'Iris-setosa', 'Iris-versicolor',\n",
       "       'Iris-versicolor', 'Iris-versicolor', 'Iris-virginica',\n",
       "       'Iris-setosa', 'Iris-versicolor', 'Iris-setosa', 'Iris-virginica',\n",
       "       'Iris-virginica', 'Iris-virginica', 'Iris-virginica',\n",
       "       'Iris-virginica', 'Iris-versicolor', 'Iris-setosa',\n",
       "       'Iris-virginica', 'Iris-versicolor', 'Iris-versicolor',\n",
       "       'Iris-setosa', 'Iris-virginica', 'Iris-virginica',\n",
       "       'Iris-versicolor', 'Iris-versicolor', 'Iris-virginica',\n",
       "       'Iris-versicolor', 'Iris-virginica', 'Iris-virginica',\n",
       "       'Iris-setosa', 'Iris-versicolor', 'Iris-setosa', 'Iris-versicolor',\n",
       "       'Iris-versicolor', 'Iris-versicolor', 'Iris-virginica',\n",
       "       'Iris-versicolor', 'Iris-versicolor', 'Iris-virginica',\n",
       "       'Iris-versicolor', 'Iris-setosa', 'Iris-versicolor', 'Iris-setosa',\n",
       "       'Iris-virginica', 'Iris-virginica', 'Iris-virginica',\n",
       "       'Iris-setosa', 'Iris-setosa', 'Iris-versicolor', 'Iris-versicolor'],\n",
       "      dtype=object)"
      ]
     },
     "execution_count": 18,
     "metadata": {},
     "output_type": "execute_result"
    }
   ],
   "source": [
    "y_train"
   ]
  },
  {
   "cell_type": "code",
   "execution_count": 19,
   "metadata": {},
   "outputs": [
    {
     "data": {
      "text/plain": [
       "array(['Iris-virginica', 'Iris-setosa', 'Iris-virginica', 'Iris-setosa',\n",
       "       'Iris-virginica', 'Iris-setosa', 'Iris-virginica',\n",
       "       'Iris-virginica', 'Iris-setosa', 'Iris-setosa', 'Iris-virginica',\n",
       "       'Iris-versicolor', 'Iris-setosa', 'Iris-virginica', 'Iris-setosa',\n",
       "       'Iris-setosa', 'Iris-virginica', 'Iris-setosa', 'Iris-versicolor',\n",
       "       'Iris-virginica', 'Iris-setosa', 'Iris-versicolor', 'Iris-setosa',\n",
       "       'Iris-setosa', 'Iris-setosa', 'Iris-versicolor', 'Iris-virginica',\n",
       "       'Iris-virginica', 'Iris-virginica', 'Iris-setosa'], dtype=object)"
      ]
     },
     "execution_count": 19,
     "metadata": {},
     "output_type": "execute_result"
    }
   ],
   "source": [
    "y_test"
   ]
  },
  {
   "cell_type": "code",
   "execution_count": 20,
   "metadata": {},
   "outputs": [],
   "source": [
    "#feature scaling\n",
    "from sklearn.preprocessing import StandardScaler"
   ]
  },
  {
   "cell_type": "code",
   "execution_count": 21,
   "metadata": {},
   "outputs": [],
   "source": [
    "scale_X = StandardScaler()\n",
    "X_train = scale_X.fit_transform(X_train)\n",
    "X_test = scale_X.transform(X_test)"
   ]
  },
  {
   "cell_type": "code",
   "execution_count": 22,
   "metadata": {},
   "outputs": [
    {
     "data": {
      "text/plain": [
       "array([[-0.43693145, -1.06459972,  0.33647803, -0.04408316],\n",
       "       [ 1.18595679, -0.59231889,  0.57575129,  0.22719785],\n",
       "       [ 0.93628168, -0.12003805,  0.33647803,  0.22719785],\n",
       "       [-0.81144412,  2.47750657, -1.39825314, -1.53612874],\n",
       "       [ 0.56176901, -1.30074014,  0.69538792,  0.90540039],\n",
       "       [-0.93628168,  1.06066405, -1.45807145, -1.26484773],\n",
       "       [-0.43693145,  2.71364699, -1.45807145, -1.40048824],\n",
       "       [ 0.06241878, -0.12003805,  0.75520624,  0.76975988],\n",
       "       [ 1.06111923, -0.12003805,  0.69538792,  0.63411937],\n",
       "       [ 2.55916991,  1.76908531,  1.53284435,  1.04104089],\n",
       "       [-1.06111923,  1.06066405, -1.33843482, -0.85792621],\n",
       "       [ 0.56176901,  0.82452363,  1.05429782,  1.58360292],\n",
       "       [-0.06241878, -0.59231889,  0.75520624,  1.58360292],\n",
       "       [ 0.81144412, -0.59231889,  0.45611466,  0.36283836],\n",
       "       [ 1.06111923,  0.58838321,  1.11411614,  1.71924343],\n",
       "       [-0.18725634,  3.18592783, -1.39825314, -1.12920722],\n",
       "       [ 1.18595679,  0.35224279,  1.23375277,  1.44796242],\n",
       "       [-0.93628168,  1.53294489, -1.39825314, -1.12920722],\n",
       "       [-0.81144412,  1.06066405, -1.39825314, -1.40048824],\n",
       "       [-1.56046946,  0.35224279, -1.45807145, -1.40048824],\n",
       "       [-1.31079435,  0.11610237, -1.33843482, -1.40048824],\n",
       "       [-0.43693145, -1.77302098,  0.09720476,  0.09155734],\n",
       "       [ 1.18595679, -0.12003805,  0.9944795 ,  1.1766814 ],\n",
       "       [-0.06241878, -0.82845931,  0.03738645, -0.04408316],\n",
       "       [-1.18595679,  0.11610237, -1.39825314, -1.53612874],\n",
       "       [ 0.18725634,  0.82452363,  0.39629634,  0.49847886],\n",
       "       [-0.31209389, -0.12003805,  0.15702308,  0.09155734],\n",
       "       [ 0.56176901,  0.58838321,  1.29357109,  1.71924343],\n",
       "       [ 0.56176901, -1.30074014,  0.63556961,  0.36283836],\n",
       "       [-1.31079435,  0.82452363, -1.33843482, -1.40048824],\n",
       "       [-0.93628168,  1.76908531, -1.15897987, -1.12920722],\n",
       "       [ 0.31209389, -0.12003805,  0.63556961,  0.76975988],\n",
       "       [ 0.06241878, -0.12003805,  0.2168414 ,  0.36283836],\n",
       "       [-0.06241878, -0.82845931,  0.75520624,  0.90540039],\n",
       "       [ 0.81144412, -0.12003805,  0.9944795 ,  0.76975988],\n",
       "       [ 0.68660656, -0.59231889,  1.05429782,  1.31232191],\n",
       "       [-0.43693145, -1.30074014,  0.09720476,  0.09155734],\n",
       "       [-0.18725634, -0.59231889,  0.15702308,  0.09155734],\n",
       "       [-1.06111923, -1.77302098, -0.32152345, -0.31536418],\n",
       "       [-1.06111923,  1.06066405, -1.51788977, -1.26484773],\n",
       "       [-1.4356319 ,  0.35224279, -1.33843482, -1.40048824],\n",
       "       [-0.93628168,  1.76908531, -1.33843482, -1.40048824],\n",
       "       [-1.06111923,  1.29680447, -1.45807145, -1.40048824],\n",
       "       [-0.31209389, -0.59231889,  0.63556961,  1.04104089],\n",
       "       [-1.93498213, -0.12003805, -1.6375264 , -1.53612874],\n",
       "       [ 0.81144412, -0.12003805,  0.81502456,  1.04104089],\n",
       "       [ 0.93628168, -0.35617847,  0.45611466,  0.09155734],\n",
       "       [ 1.31079435,  0.35224279,  1.11411614,  1.44796242],\n",
       "       [ 0.06241878,  0.35224279,  0.57575129,  0.76975988],\n",
       "       [-0.93628168,  0.82452363, -1.39825314, -1.40048824],\n",
       "       [-0.31209389, -0.35617847, -0.1420685 ,  0.09155734],\n",
       "       [-0.93628168,  1.76908531, -1.39825314, -1.26484773],\n",
       "       [ 0.43693145, -2.0091614 ,  0.39629634,  0.36283836],\n",
       "       [-0.18725634, -1.06459972, -0.20188682, -0.31536418],\n",
       "       [ 2.3094948 ,  1.76908531,  1.7122993 ,  1.31232191],\n",
       "       [-0.06241878, -1.06459972,  0.09720476, -0.04408316],\n",
       "       [-0.18725634, -0.59231889,  0.39629634,  0.09155734],\n",
       "       [-1.06111923,  0.82452363, -1.33843482, -1.12920722],\n",
       "       [ 1.06111923,  0.11610237,  0.51593298,  0.36283836],\n",
       "       [-0.56176901,  1.53294489, -1.39825314, -1.40048824],\n",
       "       [-0.06241878,  2.24136615, -1.57770809, -1.40048824],\n",
       "       [ 0.68660656,  0.35224279,  0.87484287,  1.44796242],\n",
       "       [-0.31209389, -0.82845931,  0.2168414 ,  0.09155734],\n",
       "       [-0.43693145, -1.53688056, -0.02243187, -0.17972367],\n",
       "       [-0.18725634, -0.35617847,  0.2168414 ,  0.09155734],\n",
       "       [ 0.31209389, -0.59231889,  0.09720476,  0.09155734],\n",
       "       [-1.18595679,  0.11610237, -1.39825314, -1.53612874],\n",
       "       [-0.06241878, -0.82845931,  0.75520624,  0.90540039],\n",
       "       [ 2.3094948 , -0.12003805,  1.3533894 ,  1.44796242],\n",
       "       [-1.81014457, -0.12003805, -1.51788977, -1.40048824],\n",
       "       [-1.31079435,  0.82452363, -1.15897987, -1.40048824],\n",
       "       [ 0.18725634, -0.12003805,  0.57575129,  0.76975988],\n",
       "       [-1.06111923, -0.12003805, -1.33843482, -1.40048824],\n",
       "       [ 0.31209389, -0.35617847,  0.51593298,  0.22719785],\n",
       "       [-0.81144412, -0.82845931,  0.03738645,  0.22719785],\n",
       "       [-0.56176901, -0.12003805,  0.39629634,  0.36283836],\n",
       "       [ 0.56176901, -0.35617847,  1.05429782,  0.76975988],\n",
       "       [-1.56046946,  1.29680447, -1.69734472, -1.40048824],\n",
       "       [ 1.4356319 ,  0.35224279,  0.51593298,  0.22719785],\n",
       "       [-1.4356319 ,  0.35224279, -1.51788977, -1.40048824],\n",
       "       [ 1.68530702,  0.35224279,  1.29357109,  0.76975988],\n",
       "       [ 1.31079435,  0.11610237,  0.75520624,  1.44796242],\n",
       "       [ 1.56046946, -0.12003805,  1.23375277,  1.1766814 ],\n",
       "       [ 1.06111923,  0.11610237,  1.05429782,  1.58360292],\n",
       "       [ 0.56176901, -0.59231889,  0.75520624,  0.36283836],\n",
       "       [ 0.68660656,  0.35224279,  0.39629634,  0.36283836],\n",
       "       [-0.93628168,  0.58838321, -1.27861651, -0.99356672],\n",
       "       [ 0.68660656, -0.59231889,  1.05429782,  1.1766814 ],\n",
       "       [ 0.31209389, -0.59231889,  0.51593298, -0.04408316],\n",
       "       [ 1.31079435,  0.11610237,  0.63556961,  0.36283836],\n",
       "       [-1.31079435, -0.12003805, -1.45807145, -1.53612874],\n",
       "       [-1.18595679, -1.30074014,  0.39629634,  0.63411937],\n",
       "       [ 0.18725634, -2.0091614 ,  0.69538792,  0.36283836],\n",
       "       [-0.06241878, -0.82845931,  0.15702308, -0.31536418],\n",
       "       [ 0.43693145, -0.35617847,  0.27665971,  0.09155734],\n",
       "       [ 0.81144412,  0.35224279,  0.75520624,  1.04104089],\n",
       "       [ 1.06111923,  0.11610237,  0.33647803,  0.22719785],\n",
       "       [ 2.3094948 , -0.59231889,  1.7122993 ,  1.04104089],\n",
       "       [ 1.06111923, -0.12003805,  0.81502456,  1.44796242],\n",
       "       [-1.68530702, -1.77302098, -1.51788977, -1.26484773],\n",
       "       [ 0.18725634, -0.35617847,  0.39629634,  0.36283836],\n",
       "       [-1.56046946,  0.11610237, -1.39825314, -1.40048824],\n",
       "       [ 0.18725634, -2.0091614 ,  0.09720476, -0.31536418],\n",
       "       [-0.31209389, -0.12003805,  0.39629634,  0.36283836],\n",
       "       [-1.18595679, -1.53688056, -0.32152345, -0.31536418],\n",
       "       [ 1.68530702, -0.12003805,  1.17393445,  0.49847886],\n",
       "       [ 0.18725634, -0.82845931,  0.75520624,  0.49847886],\n",
       "       [-0.18725634, -0.12003805,  0.2168414 , -0.04408316],\n",
       "       [ 1.81014457, -0.35617847,  1.47302603,  0.76975988],\n",
       "       [-0.31209389, -1.30074014,  0.03738645, -0.17972367],\n",
       "       [-1.81014457,  0.35224279, -1.51788977, -1.40048824],\n",
       "       [ 0.31209389, -0.12003805,  0.45611466,  0.22719785],\n",
       "       [-0.68660656,  1.53294489, -1.39825314, -1.40048824],\n",
       "       [ 0.43693145,  0.82452363,  0.93466119,  1.44796242],\n",
       "       [ 0.68660656,  0.11610237,  0.9944795 ,  0.76975988],\n",
       "       [ 0.68660656, -0.82845931,  0.87484287,  0.90540039],\n",
       "       [-1.31079435, -0.12003805, -1.45807145, -1.26484773],\n",
       "       [-0.56176901,  0.82452363, -1.27861651, -1.40048824],\n",
       "       [ 0.56176901, -1.77302098,  0.33647803,  0.09155734],\n",
       "       [ 0.56176901,  0.58838321,  0.51593298,  0.49847886]])"
      ]
     },
     "execution_count": 22,
     "metadata": {},
     "output_type": "execute_result"
    }
   ],
   "source": [
    "X_train"
   ]
  },
  {
   "cell_type": "code",
   "execution_count": 23,
   "metadata": {},
   "outputs": [
    {
     "data": {
      "text/plain": [
       "array([[ 2.18465724, -0.12003805,  1.65248098,  1.1766814 ],\n",
       "       [-1.56046946,  0.82452363, -1.45807145, -1.26484773],\n",
       "       [ 0.81144412, -0.12003805,  1.17393445,  1.31232191],\n",
       "       [-0.56176901,  2.00522573, -1.51788977, -1.12920722],\n",
       "       [ 0.43693145, -0.59231889,  0.57575129,  0.76975988],\n",
       "       [-1.06111923,  0.35224279, -1.57770809, -1.40048824],\n",
       "       [-0.18725634, -1.30074014,  0.69538792,  1.04104089],\n",
       "       [ 1.93498213, -0.59231889,  1.3533894 ,  0.90540039],\n",
       "       [-0.18725634,  1.76908531, -1.27861651, -1.26484773],\n",
       "       [-1.06111923,  0.82452363, -1.39825314, -1.40048824],\n",
       "       [ 0.31209389, -1.06459972,  1.05429782,  0.22719785],\n",
       "       [ 0.68660656, -0.35617847,  0.27665971,  0.09155734],\n",
       "       [-0.56176901,  2.00522573, -1.27861651, -1.12920722],\n",
       "       [ 1.31079435,  0.11610237,  0.93466119,  1.1766814 ],\n",
       "       [-1.18595679,  0.11610237, -1.39825314, -1.53612874],\n",
       "       [-0.56176901,  0.82452363, -1.39825314, -1.12920722],\n",
       "       [ 1.68530702,  1.29680447,  1.3533894 ,  1.71924343],\n",
       "       [-1.06111923,  0.58838321, -1.45807145, -1.40048824],\n",
       "       [-1.06111923, -2.48144224, -0.20188682, -0.31536418],\n",
       "       [ 0.56176901, -0.82845931,  0.63556961,  0.76975988],\n",
       "       [-0.81144412,  0.82452363, -1.45807145, -1.40048824],\n",
       "       [-0.43693145, -1.53688056, -0.08225018, -0.31536418],\n",
       "       [-1.81014457, -0.35617847, -1.45807145, -1.40048824],\n",
       "       [-0.93628168,  1.06066405, -1.45807145, -1.40048824],\n",
       "       [-1.18595679, -0.12003805, -1.45807145, -1.40048824],\n",
       "       [-0.93628168, -1.30074014, -0.5009784 , -0.17972367],\n",
       "       [ 2.3094948 , -1.06459972,  1.83193593,  1.44796242],\n",
       "       [ 1.06111923, -1.30074014,  1.17393445,  0.76975988],\n",
       "       [ 1.06111923,  0.58838321,  1.11411614,  1.1766814 ],\n",
       "       [-0.43693145,  1.06066405, -1.51788977, -1.40048824]])"
      ]
     },
     "execution_count": 23,
     "metadata": {},
     "output_type": "execute_result"
    }
   ],
   "source": [
    "X_test"
   ]
  },
  {
   "cell_type": "code",
   "execution_count": 24,
   "metadata": {},
   "outputs": [
    {
     "data": {
      "text/plain": [
       "array(['Iris-versicolor', 'Iris-versicolor', 'Iris-versicolor',\n",
       "       'Iris-setosa', 'Iris-virginica', 'Iris-setosa', 'Iris-setosa',\n",
       "       'Iris-virginica', 'Iris-versicolor', 'Iris-virginica',\n",
       "       'Iris-setosa', 'Iris-virginica', 'Iris-virginica',\n",
       "       'Iris-versicolor', 'Iris-virginica', 'Iris-setosa',\n",
       "       'Iris-virginica', 'Iris-setosa', 'Iris-setosa', 'Iris-setosa',\n",
       "       'Iris-setosa', 'Iris-versicolor', 'Iris-virginica',\n",
       "       'Iris-versicolor', 'Iris-setosa', 'Iris-versicolor',\n",
       "       'Iris-versicolor', 'Iris-virginica', 'Iris-versicolor',\n",
       "       'Iris-setosa', 'Iris-setosa', 'Iris-virginica', 'Iris-versicolor',\n",
       "       'Iris-virginica', 'Iris-virginica', 'Iris-virginica',\n",
       "       'Iris-versicolor', 'Iris-versicolor', 'Iris-versicolor',\n",
       "       'Iris-setosa', 'Iris-setosa', 'Iris-setosa', 'Iris-setosa',\n",
       "       'Iris-virginica', 'Iris-setosa', 'Iris-virginica',\n",
       "       'Iris-versicolor', 'Iris-virginica', 'Iris-versicolor',\n",
       "       'Iris-setosa', 'Iris-versicolor', 'Iris-setosa', 'Iris-versicolor',\n",
       "       'Iris-versicolor', 'Iris-virginica', 'Iris-versicolor',\n",
       "       'Iris-versicolor', 'Iris-setosa', 'Iris-versicolor', 'Iris-setosa',\n",
       "       'Iris-setosa', 'Iris-virginica', 'Iris-versicolor',\n",
       "       'Iris-versicolor', 'Iris-versicolor', 'Iris-versicolor',\n",
       "       'Iris-setosa', 'Iris-virginica', 'Iris-virginica', 'Iris-setosa',\n",
       "       'Iris-setosa', 'Iris-virginica', 'Iris-setosa', 'Iris-versicolor',\n",
       "       'Iris-versicolor', 'Iris-versicolor', 'Iris-virginica',\n",
       "       'Iris-setosa', 'Iris-versicolor', 'Iris-setosa', 'Iris-virginica',\n",
       "       'Iris-virginica', 'Iris-virginica', 'Iris-virginica',\n",
       "       'Iris-virginica', 'Iris-versicolor', 'Iris-setosa',\n",
       "       'Iris-virginica', 'Iris-versicolor', 'Iris-versicolor',\n",
       "       'Iris-setosa', 'Iris-virginica', 'Iris-virginica',\n",
       "       'Iris-versicolor', 'Iris-versicolor', 'Iris-virginica',\n",
       "       'Iris-versicolor', 'Iris-virginica', 'Iris-virginica',\n",
       "       'Iris-setosa', 'Iris-versicolor', 'Iris-setosa', 'Iris-versicolor',\n",
       "       'Iris-versicolor', 'Iris-versicolor', 'Iris-virginica',\n",
       "       'Iris-versicolor', 'Iris-versicolor', 'Iris-virginica',\n",
       "       'Iris-versicolor', 'Iris-setosa', 'Iris-versicolor', 'Iris-setosa',\n",
       "       'Iris-virginica', 'Iris-virginica', 'Iris-virginica',\n",
       "       'Iris-setosa', 'Iris-setosa', 'Iris-versicolor', 'Iris-versicolor'],\n",
       "      dtype=object)"
      ]
     },
     "execution_count": 24,
     "metadata": {},
     "output_type": "execute_result"
    }
   ],
   "source": [
    "y_train"
   ]
  },
  {
   "cell_type": "code",
   "execution_count": 25,
   "metadata": {},
   "outputs": [
    {
     "data": {
      "text/plain": [
       "array(['Iris-virginica', 'Iris-setosa', 'Iris-virginica', 'Iris-setosa',\n",
       "       'Iris-virginica', 'Iris-setosa', 'Iris-virginica',\n",
       "       'Iris-virginica', 'Iris-setosa', 'Iris-setosa', 'Iris-virginica',\n",
       "       'Iris-versicolor', 'Iris-setosa', 'Iris-virginica', 'Iris-setosa',\n",
       "       'Iris-setosa', 'Iris-virginica', 'Iris-setosa', 'Iris-versicolor',\n",
       "       'Iris-virginica', 'Iris-setosa', 'Iris-versicolor', 'Iris-setosa',\n",
       "       'Iris-setosa', 'Iris-setosa', 'Iris-versicolor', 'Iris-virginica',\n",
       "       'Iris-virginica', 'Iris-virginica', 'Iris-setosa'], dtype=object)"
      ]
     },
     "execution_count": 25,
     "metadata": {},
     "output_type": "execute_result"
    }
   ],
   "source": [
    "y_test"
   ]
  },
  {
   "cell_type": "code",
   "execution_count": 26,
   "metadata": {},
   "outputs": [],
   "source": [
    "#knn algorithm \n",
    "from sklearn.neighbors import KNeighborsClassifier"
   ]
  },
  {
   "cell_type": "code",
   "execution_count": 27,
   "metadata": {},
   "outputs": [
    {
     "data": {
      "text/plain": [
       "KNeighborsClassifier(algorithm='auto', leaf_size=30, metric='minkowski',\n",
       "           metric_params=None, n_jobs=None, n_neighbors=5, p=2,\n",
       "           weights='uniform')"
      ]
     },
     "execution_count": 27,
     "metadata": {},
     "output_type": "execute_result"
    }
   ],
   "source": [
    "classifier = KNeighborsClassifier(n_neighbors=5 , p=2, metric='minkowski')\n",
    "classifier.fit(X_train,y_train)"
   ]
  },
  {
   "cell_type": "code",
   "execution_count": 28,
   "metadata": {},
   "outputs": [],
   "source": [
    "predictions = classifier.predict(X_test)"
   ]
  },
  {
   "cell_type": "code",
   "execution_count": 29,
   "metadata": {},
   "outputs": [
    {
     "data": {
      "text/plain": [
       "array(['Iris-virginica', 'Iris-setosa', 'Iris-virginica', 'Iris-setosa',\n",
       "       'Iris-virginica', 'Iris-setosa', 'Iris-virginica',\n",
       "       'Iris-virginica', 'Iris-setosa', 'Iris-setosa', 'Iris-versicolor',\n",
       "       'Iris-versicolor', 'Iris-setosa', 'Iris-virginica', 'Iris-setosa',\n",
       "       'Iris-setosa', 'Iris-virginica', 'Iris-setosa', 'Iris-versicolor',\n",
       "       'Iris-virginica', 'Iris-setosa', 'Iris-versicolor', 'Iris-setosa',\n",
       "       'Iris-setosa', 'Iris-setosa', 'Iris-versicolor', 'Iris-virginica',\n",
       "       'Iris-virginica', 'Iris-virginica', 'Iris-setosa'], dtype=object)"
      ]
     },
     "execution_count": 29,
     "metadata": {},
     "output_type": "execute_result"
    }
   ],
   "source": [
    "predictions"
   ]
  },
  {
   "cell_type": "code",
   "execution_count": 30,
   "metadata": {},
   "outputs": [],
   "source": [
    "from sklearn.metrics import confusion_matrix,accuracy_score"
   ]
  },
  {
   "cell_type": "code",
   "execution_count": 31,
   "metadata": {},
   "outputs": [
    {
     "data": {
      "text/plain": [
       "array([[14,  0,  0],\n",
       "       [ 0,  4,  0],\n",
       "       [ 0,  1, 11]], dtype=int64)"
      ]
     },
     "execution_count": 31,
     "metadata": {},
     "output_type": "execute_result"
    }
   ],
   "source": [
    "confusion_matrix(y_test,predictions)"
   ]
  },
  {
   "cell_type": "code",
   "execution_count": 32,
   "metadata": {},
   "outputs": [
    {
     "data": {
      "text/plain": [
       "96.66666666666667"
      ]
     },
     "execution_count": 32,
     "metadata": {},
     "output_type": "execute_result"
    }
   ],
   "source": [
    "accuracy_score(y_test,predictions) *100"
   ]
  },
  {
   "cell_type": "code",
   "execution_count": null,
   "metadata": {},
   "outputs": [],
   "source": []
  }
 ],
 "metadata": {
  "kernelspec": {
   "display_name": "Python 3",
   "language": "python",
   "name": "python3"
  },
  "language_info": {
   "codemirror_mode": {
    "name": "ipython",
    "version": 3
   },
   "file_extension": ".py",
   "mimetype": "text/x-python",
   "name": "python",
   "nbconvert_exporter": "python",
   "pygments_lexer": "ipython3",
   "version": "3.6.1"
  }
 },
 "nbformat": 4,
 "nbformat_minor": 2
}
